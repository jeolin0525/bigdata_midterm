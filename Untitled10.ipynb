{
 "cells": [
  {
   "cell_type": "code",
   "execution_count": 10,
   "metadata": {},
   "outputs": [],
   "source": [
    "import findspark\n",
    "findspark.init('/home/joadmin/spark-2.1.2-bin-hadoop2.7/')\n",
    "import pyspark\n",
    "from pyspark.sql import SparkSession\n",
    "from pyspark.sql.functions import *\n",
    "spark = SparkSession.builder.appName('gdelt_1').config(\"spark.jars.packages\").getOrCreate()\n",
    "\n",
    "# Load csv file as RDD\n",
    "train_path='/home/joadmin/BTC/train.csv'\n",
    "test_path='/home/joadmin/BTC/test.csv'\n",
    "# # 1. Data Loading and Parsing\n",
    "train_df = spark.read.load(train_path,format=\"csv\", delimiter=\",\", header=True)\n",
    "test_df = spark.read.load(test_path,format=\"csv\", delimiter=\",\", header=True)"
   ]
  },
  {
   "cell_type": "code",
   "execution_count": 11,
   "metadata": {},
   "outputs": [
    {
     "name": "stdout",
     "output_type": "stream",
     "text": [
      "+----------+-------+------------+------------+------------+------------+-----------+------------+------------+-----------+\n",
      "|nextUpDown|pUpDown|   ratiotxin|  ratiotxout|ratiotxinout|  ratiotxBTC|  ratioopen|   ratiohigh|    ratiolow| ratioclose|\n",
      "+----------+-------+------------+------------+------------+------------+-----------+------------+------------+-----------+\n",
      "|         1|      1|-0.164619165|-0.181481481| 0.766917293| 0.040888661|          0| 0.166666667|           0|0.166666667|\n",
      "|         0|      1| 0.067647059| 0.113122172| 1.264705882| 0.188267056|0.166666667| 0.285714286|-0.833333333|0.285714286|\n",
      "|         1|      0| 0.104683196| 0.130081301| 1.201550388| 0.203346836|0.285714286| 0.333333333|           6|          0|\n",
      "|         0|      1|-0.094763092| -0.14028777| 0.741935484|-0.342087427|          0| 0.083333333| 0.142857143|0.111111111|\n",
      "|         0|      0| -0.05785124|-0.052301255| 0.965217391|-0.506795192|0.111111111|-0.230769231|       0.125|       -0.1|\n",
      "+----------+-------+------------+------------+------------+------------+-----------+------------+------------+-----------+\n",
      "only showing top 5 rows\n",
      "\n",
      "+-------+------------+------------+------------+------------+------------+------------+------------+------------+\n",
      "|pUpDown|   ratiotxin|  ratiotxout|ratiotxinout|  ratiotxBTC|   ratioopen|   ratiohigh|    ratiolow|  ratioclose|\n",
      "+-------+------------+------------+------------+------------+------------+------------+------------+------------+\n",
      "|      0|-0.107046262| 0.047880985| 1.137963572| 0.127524541|-0.068761444|-0.030899612|-0.050110695|-0.059844092|\n",
      "|      1| 0.010685731|-0.132579048| 0.802054776|-0.324149475|-0.059844092|-0.047277492|-0.014182553| 0.032453311|\n",
      "|      0|-0.165551614|-0.147926568| 0.862206851|-0.261481291| 0.032453311| 0.010765863|-0.022077649|-0.046020182|\n",
      "|      0|-0.062542871|-0.019425988| 1.004565717|-0.188640768|-0.046020182|-0.061987018|-0.008153567|-0.009906655|\n",
      "|      1| 0.287190496| 0.264165678| 1.252209757| 0.396136073|-0.009906655| 0.059353875|  0.00879235| 0.075796488|\n",
      "+-------+------------+------------+------------+------------+------------+------------+------------+------------+\n",
      "only showing top 5 rows\n",
      "\n",
      "root\n",
      " |-- nextUpDown: string (nullable = true)\n",
      " |-- pUpDown: string (nullable = true)\n",
      " |-- ratiotxin: string (nullable = true)\n",
      " |-- ratiotxout: string (nullable = true)\n",
      " |-- ratiotxinout: string (nullable = true)\n",
      " |-- ratiotxBTC: string (nullable = true)\n",
      " |-- ratioopen: string (nullable = true)\n",
      " |-- ratiohigh: string (nullable = true)\n",
      " |-- ratiolow: string (nullable = true)\n",
      " |-- ratioclose: string (nullable = true)\n",
      "\n",
      "root\n",
      " |-- pUpDown: string (nullable = true)\n",
      " |-- ratiotxin: string (nullable = true)\n",
      " |-- ratiotxout: string (nullable = true)\n",
      " |-- ratiotxinout: string (nullable = true)\n",
      " |-- ratiotxBTC: string (nullable = true)\n",
      " |-- ratioopen: string (nullable = true)\n",
      " |-- ratiohigh: string (nullable = true)\n",
      " |-- ratiolow: string (nullable = true)\n",
      " |-- ratioclose: string (nullable = true)\n",
      "\n",
      "2695\n",
      "50\n"
     ]
    }
   ],
   "source": [
    "train_df.show(5)\n",
    "test_df.show(5)\n",
    "train_df.printSchema() \n",
    "test_df.printSchema() \n",
    "print (train_df.count())\n",
    "print (test_df.count())"
   ]
  },
  {
   "cell_type": "code",
   "execution_count": 13,
   "metadata": {},
   "outputs": [
    {
     "name": "stdout",
     "output_type": "stream",
     "text": [
      "+----------+-------+------------+------------+------------+-----------+-----------+-----------+------------+-----------+-----+\n",
      "|nextUpDown|pUpDown|   ratiotxin|  ratiotxout|ratiotxinout| ratiotxBTC|  ratioopen|  ratiohigh|    ratiolow| ratioclose| Mark|\n",
      "+----------+-------+------------+------------+------------+-----------+-----------+-----------+------------+-----------+-----+\n",
      "|         1|      1|-0.164619165|-0.181481481| 0.766917293|0.040888661|          0|0.166666667|           0|0.166666667|train|\n",
      "|         0|      1| 0.067647059| 0.113122172| 1.264705882|0.188267056|0.166666667|0.285714286|-0.833333333|0.285714286|train|\n",
      "|         1|      0| 0.104683196| 0.130081301| 1.201550388|0.203346836|0.285714286|0.333333333|           6|          0|train|\n",
      "+----------+-------+------------+------------+------------+-----------+-----------+-----------+------------+-----------+-----+\n",
      "only showing top 3 rows\n",
      "\n",
      "+-------+------------+------------+------------+------------+------------+------------+------------+------------+------+----+----------+\n",
      "|pUpDown|   ratiotxin|  ratiotxout|ratiotxinout|  ratiotxBTC|   ratioopen|   ratiohigh|    ratiolow|  ratioclose|ACTION|Mark|nextUpDown|\n",
      "+-------+------------+------------+------------+------------+------------+------------+------------+------------+------+----+----------+\n",
      "|      0|-0.107046262| 0.047880985| 1.137963572| 0.127524541|-0.068761444|-0.030899612|-0.050110695|-0.059844092|     0|test|         0|\n",
      "|      1| 0.010685731|-0.132579048| 0.802054776|-0.324149475|-0.059844092|-0.047277492|-0.014182553| 0.032453311|     0|test|         0|\n",
      "|      0|-0.165551614|-0.147926568| 0.862206851|-0.261481291| 0.032453311| 0.010765863|-0.022077649|-0.046020182|     0|test|         0|\n",
      "+-------+------------+------------+------------+------------+------------+------------+------------+------------+------+----+----------+\n",
      "only showing top 3 rows\n",
      "\n",
      "+----------+-------+------------+------------+------------+------------+------------+------------+------------+------------+----+\n",
      "|nextUpDown|pUpDown|   ratiotxin|  ratiotxout|ratiotxinout|  ratiotxBTC|   ratioopen|   ratiohigh|    ratiolow|  ratioclose|Mark|\n",
      "+----------+-------+------------+------------+------------+------------+------------+------------+------------+------------+----+\n",
      "|         0|      0|-0.107046262| 0.047880985| 1.137963572| 0.127524541|-0.068761444|-0.030899612|-0.050110695|-0.059844092|test|\n",
      "|         0|      1| 0.010685731|-0.132579048| 0.802054776|-0.324149475|-0.059844092|-0.047277492|-0.014182553| 0.032453311|test|\n",
      "|         0|      0|-0.165551614|-0.147926568| 0.862206851|-0.261481291| 0.032453311| 0.010765863|-0.022077649|-0.046020182|test|\n",
      "+----------+-------+------------+------------+------------+------------+------------+------------+------------+------------+----+\n",
      "only showing top 3 rows\n",
      "\n"
     ]
    }
   ],
   "source": [
    "# train_df add col. \"Mark\" with value train\n",
    "train_df = train_df.withColumn('Mark',lit('train'))\n",
    "train_df.show(3)\n",
    "# test_df append col. \"ACTION\" with value '0' and  col. \"Mark\" with value 'test'\n",
    "test_df = (test_df.withColumn('nextUpDown',lit(0)).withColumn('Mark',lit('test')))\n",
    "test_df.show(3)\n",
    "# declare test_df has the same header(ordered) with train_df\n",
    "test_df = test_df[train_df.columns]\n",
    "test_df.show(3)"
   ]
  },
  {
   "cell_type": "code",
   "execution_count": 14,
   "metadata": {},
   "outputs": [
    {
     "name": "stdout",
     "output_type": "stream",
     "text": [
      "2745\n",
      "root\n",
      " |-- nextUpDown: string (nullable = true)\n",
      " |-- pUpDown: string (nullable = true)\n",
      " |-- ratiotxin: string (nullable = true)\n",
      " |-- ratiotxout: string (nullable = true)\n",
      " |-- ratiotxinout: string (nullable = true)\n",
      " |-- ratiotxBTC: string (nullable = true)\n",
      " |-- ratioopen: string (nullable = true)\n",
      " |-- ratiohigh: string (nullable = true)\n",
      " |-- ratiolow: string (nullable = true)\n",
      " |-- ratioclose: string (nullable = true)\n",
      " |-- Mark: string (nullable = false)\n",
      "\n"
     ]
    }
   ],
   "source": [
    "## Append Test data to Train data\n",
    "df = train_df.unionAll(test_df)\n",
    "print (df.count())\n",
    "df.printSchema()"
   ]
  },
  {
   "cell_type": "code",
   "execution_count": 16,
   "metadata": {},
   "outputs": [
    {
     "name": "stdout",
     "output_type": "stream",
     "text": [
      "root\n",
      " |-- nextUpDown: double (nullable = true)\n",
      " |-- pUpDown: double (nullable = true)\n",
      " |-- ratiotxin: double (nullable = true)\n",
      " |-- ratiotxout: double (nullable = true)\n",
      " |-- ratiotxinout: double (nullable = true)\n",
      " |-- ratiotxBTC: double (nullable = true)\n",
      " |-- ratioopen: double (nullable = true)\n",
      " |-- ratiohigh: double (nullable = true)\n",
      " |-- ratiolow: double (nullable = true)\n",
      " |-- ratioclose: double (nullable = true)\n",
      " |-- Mark: string (nullable = false)\n",
      "\n"
     ]
    }
   ],
   "source": [
    "#Convert string to Numeric\n",
    "df = (df.withColumn('nextUpDown',df['nextUpDown'].cast(\"double\")))\n",
    "df = (df.withColumn('pUpDown',df['pUpDown'].cast(\"double\")))\n",
    "df = (df.withColumn('ratiotxin',df['ratiotxin'].cast(\"double\")))\n",
    "df = (df.withColumn('ratiotxout',df['ratiotxout'].cast(\"double\")))\n",
    "df = (df.withColumn('ratiotxinout',df['ratiotxinout'].cast(\"double\")))\n",
    "df = (df.withColumn('ratiotxBTC',df['ratiotxBTC'].cast(\"double\")))\n",
    "df = (df.withColumn('ratioopen',df['ratioopen'].cast(\"double\")))\n",
    "df = (df.withColumn('ratiohigh',df['ratiohigh'].cast(\"double\")))\n",
    "df = (df.withColumn('ratiolow',df['ratiolow'].cast(\"double\")))\n",
    "df = (df.withColumn('ratioclose',df['ratioclose'].cast(\"double\")))\n",
    "df.printSchema()"
   ]
  },
  {
   "cell_type": "code",
   "execution_count": 28,
   "metadata": {},
   "outputs": [
    {
     "name": "stdout",
     "output_type": "stream",
     "text": [
      "+----------+-------+------------+------------+------------+-----------+-----------+-----------+------------+-----------+-----+\n",
      "|nextUpDown|pUpDown|   ratiotxin|  ratiotxout|ratiotxinout| ratiotxBTC|  ratioopen|  ratiohigh|    ratiolow| ratioclose| Mark|\n",
      "+----------+-------+------------+------------+------------+-----------+-----------+-----------+------------+-----------+-----+\n",
      "|       1.0|    1.0|-0.164619165|-0.181481481| 0.766917293|0.040888661|        0.0|0.166666667|         0.0|0.166666667|train|\n",
      "|       0.0|    1.0| 0.067647059| 0.113122172| 1.264705882|0.188267056|0.166666667|0.285714286|-0.833333333|0.285714286|train|\n",
      "|       1.0|    0.0| 0.104683196| 0.130081301| 1.201550388|0.203346836|0.285714286|0.333333333|         6.0|        0.0|train|\n",
      "+----------+-------+------------+------------+------------+-----------+-----------+-----------+------------+-----------+-----+\n",
      "only showing top 3 rows\n",
      "\n"
     ]
    }
   ],
   "source": [
    "numVars = ['nextUpDown','pUpDown','ratiotxin','ratiotxout','ratiotxinout','ratiotxBTC','ratioopen','ratiohigh','ratiolow','ratioclose']\n",
    "catVars = []\n",
    "## Reserve a CatVar array for potential category features\n",
    "\n",
    "from pyspark.ml.feature import StringIndexer\n",
    "## make use of pipeline to index all categorical variables\n",
    "def indexer(df,col):\n",
    "    si = StringIndexer(inputCol = col, outputCol = col+'_indexed').fit(df)\n",
    "    return si\n",
    "\n",
    "indexers = [indexer(df,col) for col in catVars]\n",
    "\n",
    "from pyspark.ml import Pipeline\n",
    "pipeline = Pipeline(stages = indexers)\n",
    "df_indexed = pipeline.fit(df).transform(df)\n",
    "df_indexed.show(3)\n"
   ]
  },
  {
   "cell_type": "code",
   "execution_count": 29,
   "metadata": {},
   "outputs": [
    {
     "name": "stdout",
     "output_type": "stream",
     "text": [
      "+-----+-----+--------------------+-----+\n",
      "| mark|label|            features|index|\n",
      "+-----+-----+--------------------+-----+\n",
      "|train|  1.0|[1.0,-0.164619165...|  0.0|\n",
      "|train|  0.0|[1.0,0.067647059,...|  1.0|\n",
      "|train|  1.0|[0.0,0.104683196,...|  0.0|\n",
      "|train|  0.0|[1.0,-0.094763092...|  1.0|\n",
      "|train|  0.0|[0.0,-0.05785124,...|  1.0|\n",
      "|train|  1.0|[0.0,0.029239766,...|  0.0|\n",
      "|train|  0.0|[1.0,0.034090909,...|  1.0|\n",
      "|train|  0.0|[0.0,0.008241758,...|  1.0|\n",
      "|train|  0.0|[0.0,-0.10626703,...|  1.0|\n",
      "|train|  0.0|[0.0,0.344512195,...|  1.0|\n",
      "|train|  0.0|[0.0,0.036281179,...|  1.0|\n",
      "|train|  0.0|[0.0,0.266958425,...|  1.0|\n",
      "|train|  0.0|[0.0,0.595854922,...|  1.0|\n",
      "|train|  1.0|[0.0,-0.228354978...|  0.0|\n",
      "|train|  0.0|[1.0,-0.225806452...|  1.0|\n",
      "|train|  1.0|[0.0,0.09057971,0...|  0.0|\n",
      "|train|  0.0|[1.0,-0.141196013...|  1.0|\n",
      "|train|  1.0|[0.0,0.067698259,...|  0.0|\n",
      "|train|  1.0|[1.0,-0.257246377...|  0.0|\n",
      "|train|  1.0|[1.0,0.263414634,...|  0.0|\n",
      "+-----+-----+--------------------+-----+\n",
      "only showing top 20 rows\n",
      "\n",
      "2745\n"
     ]
    }
   ],
   "source": [
    "# Convert to label/features format\n",
    "# In order to apply ML/MLLIB, we need covert features to Vectors (either SparseVector or DenseVector).\n",
    "catVarsIndexed = [i+'_indexed' for i in catVars]\n",
    "featuresCol = numVars+catVarsIndexed\n",
    "featuresCol.remove('nextUpDown')\n",
    "labelCol = ['Mark','nextUpDown']\n",
    "\n",
    "from pyspark.sql import Row\n",
    "#from pyspark.mllib.linalg import DenseVector\n",
    "from pyspark.ml.linalg import DenseVector\n",
    "row = Row('mark','label','features')\n",
    "# 0-mark, 1-label, 2-features\n",
    " \n",
    "df_indexed = df_indexed[labelCol+featuresCol]\n",
    "# 0-mark, 1-label, 2-features\n",
    "# map features to DenseVector\n",
    "#lf = df_indexed.map(lambda r: (row(r[0], r[1],DenseVector(r[2:])))).toDF()\n",
    "lf = df_indexed.rdd.map(lambda r: (row(r[0], r[1],DenseVector(r[2:])))).toDF()\n",
    "# index label\n",
    "# convert numeric label to categorical, which is required by\n",
    "# decisionTree and randomForest\n",
    "lf = StringIndexer(inputCol = 'label',outputCol='index').fit(lf).transform(lf)\n",
    "\n",
    "lf.show()\n",
    "print (lf.count())"
   ]
  },
  {
   "cell_type": "code",
   "execution_count": 30,
   "metadata": {},
   "outputs": [
    {
     "name": "stdout",
     "output_type": "stream",
     "text": [
      "Train Data Number of Row: 2142\n",
      "Validate Data Number of Row: 553\n",
      "Test Data Number of Row: 50\n"
     ]
    }
   ],
   "source": [
    "# split back train/test data\n",
    "train = lf.where(lf.mark =='train')\n",
    "test = lf.where(lf.mark =='test')\n",
    "\n",
    "# random split further to get train/validate\n",
    "train,validate = train.randomSplit([0.8,0.2],seed =121)\n",
    " \n",
    "print ('Train Data Number of Row: '+ str(train.count()))\n",
    "print ('Validate Data Number of Row: '+ str(validate.count()))\n",
    "print ('Test Data Number of Row: '+ str(test.count()))"
   ]
  },
  {
   "cell_type": "code",
   "execution_count": 31,
   "metadata": {
    "scrolled": true
   },
   "outputs": [
    {
     "name": "stdout",
     "output_type": "stream",
     "text": [
      "<class 'pyspark.ml.classification.LogisticRegressionModel'>\n",
      "AUC ROC of Logistic Regression model is: 0.535529715762274\n"
     ]
    }
   ],
   "source": [
    "# 4. Apply Models from ML/MLLIB\n",
    "# ML is built based on DataFrame, while mllib is based on RDD.\n",
    "# I’m going to fit the logistic, decision tree and random forest models from ML packages.\n",
    "\n",
    "#Logistic Regression\n",
    "from pyspark.ml.classification import LogisticRegression\n",
    " \n",
    "# regPara: lasso regularisation parameter (L1)\n",
    "lr = LogisticRegression(maxIter = 100, regParam = 0.05, labelCol='index').fit(train)\n",
    "print (type(lr))\n",
    "# Evaluate model based on auc ROC(default for binary classification)\n",
    "from pyspark.ml.evaluation import BinaryClassificationEvaluator\n",
    "\n",
    "def testModel(model, validate = validate):\n",
    "    pred = model.transform(validate)\n",
    "    evaluator = BinaryClassificationEvaluator(labelCol = 'index')\n",
    "    #return evaluator.evaluate(prod)\n",
    "    return evaluator.evaluate(pred)\n",
    " \n",
    "print ('AUC ROC of Logistic Regression model is: '+str(testModel(lr)))"
   ]
  },
  {
   "cell_type": "code",
   "execution_count": 35,
   "metadata": {},
   "outputs": [
    {
     "name": "stdout",
     "output_type": "stream",
     "text": [
      "{'RandomForest': 0.5428202288667405, 'DecistionTree': 0.5257672836576491, 'LogisticRegression': 0.535529715762274}\n"
     ]
    }
   ],
   "source": [
    "#Decision Tree and Random Forest\n",
    "from pyspark.ml.classification import DecisionTreeClassifier, RandomForestClassifier\n",
    " \n",
    "dt = DecisionTreeClassifier(maxDepth = 3, labelCol ='index').fit(train)\n",
    "rf = RandomForestClassifier(numTrees = 100, labelCol = 'index').fit(train)\n",
    " \n",
    "models = {'LogisticRegression':lr,\n",
    "          'DecistionTree':dt,\n",
    "          'RandomForest':rf}\n",
    "\n",
    "#modelPerf = {k:testModel(v) for k,v in models.iteritems()}\n",
    "modelPerf = {k:testModel(v) for k,v in models.items()}\n",
    " \n",
    "print (modelPerf)"
   ]
  },
  {
   "cell_type": "code",
   "execution_count": null,
   "metadata": {},
   "outputs": [],
   "source": []
  }
 ],
 "metadata": {
  "kernelspec": {
   "display_name": "Python 3",
   "language": "python",
   "name": "python3"
  },
  "language_info": {
   "codemirror_mode": {
    "name": "ipython",
    "version": 3
   },
   "file_extension": ".py",
   "mimetype": "text/x-python",
   "name": "python",
   "nbconvert_exporter": "python",
   "pygments_lexer": "ipython3",
   "version": "3.5.2"
  }
 },
 "nbformat": 4,
 "nbformat_minor": 2
}
